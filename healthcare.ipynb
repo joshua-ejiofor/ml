{
 "cells": [
  {
   "cell_type": "markdown",
   "id": "e319297d-0ce7-4d1d-b42f-213256fe8192",
   "metadata": {},
   "source": [
    "### Importing Relevants libraries"
   ]
  },
  {
   "cell_type": "code",
   "execution_count": 1,
   "id": "905624f0-110f-4ada-aadd-8bc1af08971a",
   "metadata": {},
   "outputs": [],
   "source": [
    "import pandas as pd\n",
    "from IPython.display import display"
   ]
  },
  {
   "cell_type": "markdown",
   "id": "08e98f53-e5f6-4400-8ab2-e6a0f6726d42",
   "metadata": {},
   "source": [
    "### Loading the dataset"
   ]
  },
  {
   "cell_type": "code",
   "execution_count": 2,
   "id": "2aa8b9c5-67e5-451e-9d53-48265a172c08",
   "metadata": {},
   "outputs": [],
   "source": [
    "# Load the CSV file\n",
    "df = pd.read_csv('healthcare_dataset.csv')\n"
   ]
  },
  {
   "cell_type": "markdown",
   "id": "2ecb23c4-837e-4cca-9817-d05c26b0d8f1",
   "metadata": {},
   "source": [
    "### Printing the first few rows"
   ]
  },
  {
   "cell_type": "code",
   "execution_count": 3,
   "id": "8770a2af-f48e-4b93-aaa6-60e9c4c87cd6",
   "metadata": {},
   "outputs": [
    {
     "data": {
      "text/html": [
       "<div>\n",
       "<style scoped>\n",
       "    .dataframe tbody tr th:only-of-type {\n",
       "        vertical-align: middle;\n",
       "    }\n",
       "\n",
       "    .dataframe tbody tr th {\n",
       "        vertical-align: top;\n",
       "    }\n",
       "\n",
       "    .dataframe thead th {\n",
       "        text-align: right;\n",
       "    }\n",
       "</style>\n",
       "<table border=\"1\" class=\"dataframe\">\n",
       "  <thead>\n",
       "    <tr style=\"text-align: right;\">\n",
       "      <th></th>\n",
       "      <th>Name</th>\n",
       "      <th>Age</th>\n",
       "      <th>Gender</th>\n",
       "      <th>Blood Type</th>\n",
       "      <th>Medical Condition</th>\n",
       "      <th>Date of Admission</th>\n",
       "      <th>Doctor</th>\n",
       "      <th>Hospital</th>\n",
       "      <th>Insurance Provider</th>\n",
       "      <th>Billing Amount</th>\n",
       "      <th>Room Number</th>\n",
       "      <th>Admission Type</th>\n",
       "      <th>Discharge Date</th>\n",
       "      <th>Medication</th>\n",
       "      <th>Test Results</th>\n",
       "    </tr>\n",
       "  </thead>\n",
       "  <tbody>\n",
       "    <tr>\n",
       "      <th>0</th>\n",
       "      <td>Bobby JacksOn</td>\n",
       "      <td>30</td>\n",
       "      <td>Male</td>\n",
       "      <td>B-</td>\n",
       "      <td>Cancer</td>\n",
       "      <td>2024-01-31</td>\n",
       "      <td>Matthew Smith</td>\n",
       "      <td>Sons and Miller</td>\n",
       "      <td>Blue Cross</td>\n",
       "      <td>18856.281306</td>\n",
       "      <td>328</td>\n",
       "      <td>Urgent</td>\n",
       "      <td>2024-02-02</td>\n",
       "      <td>Paracetamol</td>\n",
       "      <td>Normal</td>\n",
       "    </tr>\n",
       "    <tr>\n",
       "      <th>1</th>\n",
       "      <td>LesLie TErRy</td>\n",
       "      <td>62</td>\n",
       "      <td>Male</td>\n",
       "      <td>A+</td>\n",
       "      <td>Obesity</td>\n",
       "      <td>2019-08-20</td>\n",
       "      <td>Samantha Davies</td>\n",
       "      <td>Kim Inc</td>\n",
       "      <td>Medicare</td>\n",
       "      <td>33643.327287</td>\n",
       "      <td>265</td>\n",
       "      <td>Emergency</td>\n",
       "      <td>2019-08-26</td>\n",
       "      <td>Ibuprofen</td>\n",
       "      <td>Inconclusive</td>\n",
       "    </tr>\n",
       "    <tr>\n",
       "      <th>2</th>\n",
       "      <td>DaNnY sMitH</td>\n",
       "      <td>76</td>\n",
       "      <td>Female</td>\n",
       "      <td>A-</td>\n",
       "      <td>Obesity</td>\n",
       "      <td>2022-09-22</td>\n",
       "      <td>Tiffany Mitchell</td>\n",
       "      <td>Cook PLC</td>\n",
       "      <td>Aetna</td>\n",
       "      <td>27955.096079</td>\n",
       "      <td>205</td>\n",
       "      <td>Emergency</td>\n",
       "      <td>2022-10-07</td>\n",
       "      <td>Aspirin</td>\n",
       "      <td>Normal</td>\n",
       "    </tr>\n",
       "    <tr>\n",
       "      <th>3</th>\n",
       "      <td>andrEw waTtS</td>\n",
       "      <td>28</td>\n",
       "      <td>Female</td>\n",
       "      <td>O+</td>\n",
       "      <td>Diabetes</td>\n",
       "      <td>2020-11-18</td>\n",
       "      <td>Kevin Wells</td>\n",
       "      <td>Hernandez Rogers and Vang,</td>\n",
       "      <td>Medicare</td>\n",
       "      <td>37909.782410</td>\n",
       "      <td>450</td>\n",
       "      <td>Elective</td>\n",
       "      <td>2020-12-18</td>\n",
       "      <td>Ibuprofen</td>\n",
       "      <td>Abnormal</td>\n",
       "    </tr>\n",
       "    <tr>\n",
       "      <th>4</th>\n",
       "      <td>adrIENNE bEll</td>\n",
       "      <td>43</td>\n",
       "      <td>Female</td>\n",
       "      <td>AB+</td>\n",
       "      <td>Cancer</td>\n",
       "      <td>2022-09-19</td>\n",
       "      <td>Kathleen Hanna</td>\n",
       "      <td>White-White</td>\n",
       "      <td>Aetna</td>\n",
       "      <td>14238.317814</td>\n",
       "      <td>458</td>\n",
       "      <td>Urgent</td>\n",
       "      <td>2022-10-09</td>\n",
       "      <td>Penicillin</td>\n",
       "      <td>Abnormal</td>\n",
       "    </tr>\n",
       "  </tbody>\n",
       "</table>\n",
       "</div>"
      ],
      "text/plain": [
       "            Name  Age  Gender Blood Type Medical Condition Date of Admission  \\\n",
       "0  Bobby JacksOn   30    Male         B-            Cancer        2024-01-31   \n",
       "1   LesLie TErRy   62    Male         A+           Obesity        2019-08-20   \n",
       "2    DaNnY sMitH   76  Female         A-           Obesity        2022-09-22   \n",
       "3   andrEw waTtS   28  Female         O+          Diabetes        2020-11-18   \n",
       "4  adrIENNE bEll   43  Female        AB+            Cancer        2022-09-19   \n",
       "\n",
       "             Doctor                    Hospital Insurance Provider  \\\n",
       "0     Matthew Smith             Sons and Miller         Blue Cross   \n",
       "1   Samantha Davies                     Kim Inc           Medicare   \n",
       "2  Tiffany Mitchell                    Cook PLC              Aetna   \n",
       "3       Kevin Wells  Hernandez Rogers and Vang,           Medicare   \n",
       "4    Kathleen Hanna                 White-White              Aetna   \n",
       "\n",
       "   Billing Amount  Room Number Admission Type Discharge Date   Medication  \\\n",
       "0    18856.281306          328         Urgent     2024-02-02  Paracetamol   \n",
       "1    33643.327287          265      Emergency     2019-08-26    Ibuprofen   \n",
       "2    27955.096079          205      Emergency     2022-10-07      Aspirin   \n",
       "3    37909.782410          450       Elective     2020-12-18    Ibuprofen   \n",
       "4    14238.317814          458         Urgent     2022-10-09   Penicillin   \n",
       "\n",
       "   Test Results  \n",
       "0        Normal  \n",
       "1  Inconclusive  \n",
       "2        Normal  \n",
       "3      Abnormal  \n",
       "4      Abnormal  "
      ]
     },
     "metadata": {},
     "output_type": "display_data"
    }
   ],
   "source": [
    "# Display the first few rows\n",
    "display(df.head())"
   ]
  },
  {
   "cell_type": "markdown",
   "id": "22a3dcc1-b7f9-4c90-a27b-312f63b4aa6a",
   "metadata": {},
   "source": [
    "### Checking informations on the dataset"
   ]
  },
  {
   "cell_type": "code",
   "execution_count": 4,
   "id": "ebcca3b3-4d88-4fcd-8d42-ec790c25937b",
   "metadata": {},
   "outputs": [
    {
     "name": "stdout",
     "output_type": "stream",
     "text": [
      "<class 'pandas.core.frame.DataFrame'>\n",
      "RangeIndex: 55500 entries, 0 to 55499\n",
      "Data columns (total 15 columns):\n",
      " #   Column              Non-Null Count  Dtype  \n",
      "---  ------              --------------  -----  \n",
      " 0   Name                55500 non-null  object \n",
      " 1   Age                 55500 non-null  int64  \n",
      " 2   Gender              55500 non-null  object \n",
      " 3   Blood Type          55500 non-null  object \n",
      " 4   Medical Condition   55500 non-null  object \n",
      " 5   Date of Admission   55500 non-null  object \n",
      " 6   Doctor              55500 non-null  object \n",
      " 7   Hospital            55500 non-null  object \n",
      " 8   Insurance Provider  55500 non-null  object \n",
      " 9   Billing Amount      55500 non-null  float64\n",
      " 10  Room Number         55500 non-null  int64  \n",
      " 11  Admission Type      55500 non-null  object \n",
      " 12  Discharge Date      55500 non-null  object \n",
      " 13  Medication          55500 non-null  object \n",
      " 14  Test Results        55500 non-null  object \n",
      "dtypes: float64(1), int64(2), object(12)\n",
      "memory usage: 6.4+ MB\n"
     ]
    }
   ],
   "source": [
    "df.info()"
   ]
  },
  {
   "cell_type": "markdown",
   "id": "59868f57-a35f-4c8c-b488-ea27ece5e60f",
   "metadata": {},
   "source": [
    "### Checking missing values"
   ]
  },
  {
   "cell_type": "code",
   "execution_count": 5,
   "id": "6d477a47-baa0-4081-94db-48fe1e0d76fa",
   "metadata": {},
   "outputs": [
    {
     "name": "stdout",
     "output_type": "stream",
     "text": [
      "Name                  0\n",
      "Age                   0\n",
      "Gender                0\n",
      "Blood Type            0\n",
      "Medical Condition     0\n",
      "Date of Admission     0\n",
      "Doctor                0\n",
      "Hospital              0\n",
      "Insurance Provider    0\n",
      "Billing Amount        0\n",
      "Room Number           0\n",
      "Admission Type        0\n",
      "Discharge Date        0\n",
      "Medication            0\n",
      "Test Results          0\n",
      "dtype: int64\n"
     ]
    }
   ],
   "source": [
    "print(df.isnull().sum())"
   ]
  },
  {
   "cell_type": "markdown",
   "id": "4a372267-63f5-4bf6-a805-84682e4d217c",
   "metadata": {},
   "source": [
    "### Distincts medical condition"
   ]
  },
  {
   "cell_type": "code",
   "execution_count": 6,
   "id": "21923274-8667-4dbb-bc3b-3c03d26c3003",
   "metadata": {},
   "outputs": [
    {
     "name": "stdout",
     "output_type": "stream",
     "text": [
      "['Cancer' 'Obesity' 'Diabetes' 'Asthma' 'Hypertension' 'Arthritis']\n"
     ]
    }
   ],
   "source": [
    "print(df['Medical Condition'].unique())\n"
   ]
  },
  {
   "cell_type": "markdown",
   "id": "25cc0bed-5ac9-45de-99db-85cc46cf4679",
   "metadata": {},
   "source": [
    "### The total number of people with Cancer "
   ]
  },
  {
   "cell_type": "code",
   "execution_count": 7,
   "id": "efb9cb28-0826-44b3-821f-25b99a2d42fd",
   "metadata": {},
   "outputs": [
    {
     "name": "stdout",
     "output_type": "stream",
     "text": [
      "Number of people with Cancer: 9227\n"
     ]
    }
   ],
   "source": [
    "cancer_count = df[df['Medical Condition'] == 'Cancer'].shape[0]\n",
    "print(f\"Number of people with Cancer: {cancer_count}\")\n"
   ]
  },
  {
   "cell_type": "markdown",
   "id": "aebb9f8a-9f7e-416c-b5a7-6b416387fd5e",
   "metadata": {},
   "source": [
    "### The most occurring medical condion"
   ]
  },
  {
   "cell_type": "code",
   "execution_count": 8,
   "id": "3ec64de5-38fc-42a4-adb0-d635327a4311",
   "metadata": {},
   "outputs": [
    {
     "name": "stdout",
     "output_type": "stream",
     "text": [
      "The most common medical condition is 'Arthritis' with 9308 occurrences.\n"
     ]
    }
   ],
   "source": [
    "most_common = df['Medical Condition'].value_counts().idxmax()\n",
    "count = df['Medical Condition'].value_counts().max()\n",
    "\n",
    "print(f\"The most common medical condition is '{most_common}' with {count} occurrences.\")\n"
   ]
  },
  {
   "cell_type": "markdown",
   "id": "160bdc45-0cd8-47c0-b208-d0087c49d139",
   "metadata": {},
   "source": [
    "### The distinct gender"
   ]
  },
  {
   "cell_type": "code",
   "execution_count": 9,
   "id": "0522a2fe-81ea-440a-a5d2-4ba23345d489",
   "metadata": {},
   "outputs": [
    {
     "name": "stdout",
     "output_type": "stream",
     "text": [
      "['Male' 'Female']\n"
     ]
    }
   ],
   "source": [
    "print(df['Gender'].unique())\n"
   ]
  },
  {
   "cell_type": "markdown",
   "id": "a55132b5-1939-48af-bc55-0bf06ec26cf3",
   "metadata": {},
   "source": [
    "### The number of males on medical condition"
   ]
  },
  {
   "cell_type": "code",
   "execution_count": 10,
   "id": "872822bd-b7d7-495c-a72f-94804f124cd2",
   "metadata": {},
   "outputs": [
    {
     "name": "stdout",
     "output_type": "stream",
     "text": [
      "Number of males: 27774\n"
     ]
    }
   ],
   "source": [
    "male_count = df[df['Gender'] == 'Male'].shape[0]\n",
    "print(f\"Number of males: {male_count}\")\n"
   ]
  },
  {
   "cell_type": "markdown",
   "id": "d6c29aa7-b128-4079-a9ed-b41d30413a49",
   "metadata": {},
   "source": [
    "### The number of females on medical condition"
   ]
  },
  {
   "cell_type": "code",
   "execution_count": 11,
   "id": "ae148108-7793-4180-8ecc-7cda9a38776d",
   "metadata": {},
   "outputs": [
    {
     "name": "stdout",
     "output_type": "stream",
     "text": [
      "Number of females: 27726\n"
     ]
    }
   ],
   "source": [
    "female_count = df[df['Gender'] == 'Female'].shape[0]\n",
    "print(f\"Number of females: {female_count}\")\n"
   ]
  },
  {
   "cell_type": "markdown",
   "id": "8d156d40-75d1-41f7-a90c-efde6ee93c3d",
   "metadata": {},
   "source": [
    "### The number of distict Doctors"
   ]
  },
  {
   "cell_type": "code",
   "execution_count": 12,
   "id": "0fb18647-6707-4f5a-ae5a-b4c3da05b5b7",
   "metadata": {},
   "outputs": [
    {
     "name": "stdout",
     "output_type": "stream",
     "text": [
      "Number of distinct doctors: 40341\n"
     ]
    }
   ],
   "source": [
    "distinct_doctors = df['Doctor'].nunique()\n",
    "print(f\"Number of distinct doctors: {distinct_doctors}\")\n"
   ]
  },
  {
   "cell_type": "markdown",
   "id": "828c8867-b6af-48a6-80b1-62d60d3dfb5f",
   "metadata": {},
   "source": [
    "### The number of distict hospital"
   ]
  },
  {
   "cell_type": "code",
   "execution_count": 13,
   "id": "76e24a3f-2e18-46c1-a117-9ffd241a30ee",
   "metadata": {},
   "outputs": [
    {
     "name": "stdout",
     "output_type": "stream",
     "text": [
      "Number of distinct hospitals: 39876\n"
     ]
    }
   ],
   "source": [
    "distinct_hospitals = df['Hospital'].nunique()\n",
    "print(f\"Number of distinct hospitals: {distinct_hospitals}\")\n"
   ]
  },
  {
   "cell_type": "markdown",
   "id": "407c6c8e-c0d9-43e5-9eea-8c7a7f910895",
   "metadata": {},
   "source": [
    "### The Distinct blood type"
   ]
  },
  {
   "cell_type": "code",
   "execution_count": 14,
   "id": "52ef8ce1-ea54-42c5-95bf-da0bb28a456d",
   "metadata": {},
   "outputs": [
    {
     "name": "stdout",
     "output_type": "stream",
     "text": [
      "Number of distinct blood types: 8\n"
     ]
    }
   ],
   "source": [
    "distinct_blood_types = df['Blood Type'].nunique()\n",
    "print(f\"Number of distinct blood types: {distinct_blood_types}\")\n"
   ]
  },
  {
   "cell_type": "markdown",
   "id": "254edb84-d8e1-4cd3-a218-72e46c166719",
   "metadata": {},
   "source": [
    "### Identifying the blood type/group"
   ]
  },
  {
   "cell_type": "code",
   "execution_count": 15,
   "id": "8971fb31-4cec-40f2-b1a0-e15511cd1458",
   "metadata": {},
   "outputs": [
    {
     "name": "stdout",
     "output_type": "stream",
     "text": [
      "['B-' 'A+' 'A-' 'O+' 'AB+' 'AB-' 'B+' 'O-']\n"
     ]
    }
   ],
   "source": [
    "print(df['Blood Type'].unique())\n"
   ]
  },
  {
   "cell_type": "markdown",
   "id": "6d6d2286-b1f2-4b6e-832b-ea7436de4881",
   "metadata": {},
   "source": [
    "### Number of patients with blood type B-"
   ]
  },
  {
   "cell_type": "code",
   "execution_count": 17,
   "id": "e1a066bf-90b2-4fe7-97b7-f52921108f19",
   "metadata": {},
   "outputs": [
    {
     "name": "stdout",
     "output_type": "stream",
     "text": [
      "Number of patients with blood type B-: 6944\n"
     ]
    }
   ],
   "source": [
    "b_negative_count = df[df['Blood Type'] == 'B-'].shape[0]\n",
    "print(f\"Number of patients with blood type B-: {b_negative_count}\")\n"
   ]
  },
  {
   "cell_type": "markdown",
   "id": "58e5a9d3-4ce4-49c4-ab59-f573ea81be0a",
   "metadata": {},
   "source": [
    "### The most common blood type in the dataset"
   ]
  },
  {
   "cell_type": "code",
   "execution_count": 19,
   "id": "e63c4d04-c875-4e3b-a694-50255bb0bd53",
   "metadata": {},
   "outputs": [
    {
     "name": "stdout",
     "output_type": "stream",
     "text": [
      "The most common blood type is 'A-' with 6969 patients.\n"
     ]
    }
   ],
   "source": [
    "most_common_blood_type = df['Blood Type'].value_counts().idxmax()\n",
    "count = df['Blood Type'].value_counts().max()\n",
    "\n",
    "print(f\"The most common blood type is '{most_common_blood_type}' with {count} patients.\")\n"
   ]
  },
  {
   "cell_type": "code",
   "execution_count": 20,
   "id": "b209c64b-9c73-4ca4-a34c-c49e2e78dd9f",
   "metadata": {},
   "outputs": [],
   "source": [
    "### Rank the blood type based on the number of the patients"
   ]
  },
  {
   "cell_type": "code",
   "execution_count": 21,
   "id": "e8435f53-f6f6-46bd-86d3-14c8024446b1",
   "metadata": {},
   "outputs": [
    {
     "name": "stdout",
     "output_type": "stream",
     "text": [
      "Blood Type Ranking (by number of patients):\n",
      "Blood Type\n",
      "A-     6969\n",
      "A+     6956\n",
      "AB+    6947\n",
      "AB-    6945\n",
      "B+     6945\n",
      "B-     6944\n",
      "O+     6917\n",
      "O-     6877\n",
      "Name: count, dtype: int64\n"
     ]
    }
   ],
   "source": [
    "blood_type_ranking = df['Blood Type'].value_counts()\n",
    "\n",
    "print(\"Blood Type Ranking (by number of patients):\")\n",
    "print(blood_type_ranking)\n"
   ]
  },
  {
   "cell_type": "markdown",
   "id": "d17a2a01-53e0-4cba-ba6c-f7b8eb821ac6",
   "metadata": {},
   "source": [
    "### Medical condition ranked by total billing amount"
   ]
  },
  {
   "cell_type": "code",
   "execution_count": 23,
   "id": "a7f16e55-1739-45e5-913c-eafa562a19b5",
   "metadata": {},
   "outputs": [
    {
     "name": "stdout",
     "output_type": "stream",
     "text": [
      "Medical Conditions Ranked by Total Billing Amount:\n",
      "Medical Condition\n",
      "Diabetes        2.385397e+08\n",
      "Obesity         2.382149e+08\n",
      "Arthritis       2.373291e+08\n",
      "Hypertension    2.357207e+08\n",
      "Asthma          2.354598e+08\n",
      "Cancer          2.321679e+08\n",
      "Name: Billing Amount, dtype: float64\n"
     ]
    }
   ],
   "source": [
    "ranked_billing = billing_by_condition.sort_values(ascending=False)\n",
    "print(\"Medical Conditions Ranked by Total Billing Amount:\")\n",
    "print(ranked_billing)\n",
    "\n"
   ]
  },
  {
   "cell_type": "code",
   "execution_count": null,
   "id": "09ff7156-7fa0-49b1-a289-b2e9869e2524",
   "metadata": {},
   "outputs": [],
   "source": []
  }
 ],
 "metadata": {
  "kernelspec": {
   "display_name": "Python 3 (ipykernel)",
   "language": "python",
   "name": "python3"
  },
  "language_info": {
   "codemirror_mode": {
    "name": "ipython",
    "version": 3
   },
   "file_extension": ".py",
   "mimetype": "text/x-python",
   "name": "python",
   "nbconvert_exporter": "python",
   "pygments_lexer": "ipython3",
   "version": "3.13.2"
  }
 },
 "nbformat": 4,
 "nbformat_minor": 5
}
