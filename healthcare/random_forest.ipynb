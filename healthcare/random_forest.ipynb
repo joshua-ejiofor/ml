{
 "cells": [
  {
   "cell_type": "code",
   "execution_count": null,
   "id": "0b5a9678-c791-45e8-8c99-ea7aa4f508f3",
   "metadata": {},
   "outputs": [],
   "source": []
  },
  {
   "cell_type": "code",
   "execution_count": 1,
   "id": "48482414-e8f1-4541-8283-b4f933444ea2",
   "metadata": {},
   "outputs": [
    {
     "name": "stdout",
     "output_type": "stream",
     "text": [
      "Mean Absolute Error (MAE): 7.36675824002574\n",
      "Root Mean Squared Error (RMSE): 8.718736966664478\n"
     ]
    }
   ],
   "source": [
    "import pandas as pd\n",
    "import numpy as np\n",
    "from sklearn.model_selection import train_test_split\n",
    "from sklearn.ensemble import RandomForestRegressor\n",
    "from sklearn.preprocessing import OneHotEncoder\n",
    "from sklearn.compose import ColumnTransformer\n",
    "from sklearn.pipeline import Pipeline\n",
    "from sklearn.metrics import mean_squared_error, mean_absolute_error\n",
    "from sklearn.impute import SimpleImputer\n",
    "\n",
    "# Load your dataset \n",
    "df = pd.read_csv('healthcare_dataset.csv')\n",
    "\n",
    "# Step 1: Parse dates and compute Length of Stay\n",
    "df['Date of Admission'] = pd.to_datetime(df['Date of Admission'])\n",
    "df['Discharge Date'] = pd.to_datetime(df['Discharge Date'])\n",
    "df['Length_of_Stay'] = (df['Discharge Date'] - df['Date of Admission']).dt.days\n",
    "\n",
    "# Step 2: Select relevant features\n",
    "features = [\n",
    "    'Age', 'Gender', 'Admission Type', 'Medical Condition',\n",
    "    'Medication', 'Room Number'\n",
    "]\n",
    "target = 'Length_of_Stay'\n",
    "\n",
    "X = df[features]\n",
    "y = df[target]\n",
    "\n",
    "# Step 3: Preprocessing pipeline\n",
    "categorical_cols = ['Gender', 'Admission Type', 'Medical Condition', 'Medication']\n",
    "numerical_cols = ['Age', 'Room Number']\n",
    "\n",
    "preprocessor = ColumnTransformer([\n",
    "    ('cat', OneHotEncoder(handle_unknown='ignore'), categorical_cols),\n",
    "    ('num', SimpleImputer(strategy='median'), numerical_cols)\n",
    "])\n",
    "\n",
    "# Step 4: Create the pipeline with a Random Forest\n",
    "model = Pipeline(steps=[\n",
    "    ('preprocessing', preprocessor),\n",
    "    ('regressor', RandomForestRegressor(n_estimators=100, random_state=42))\n",
    "])\n",
    "\n",
    "# Step 5: Train-test split and model fitting\n",
    "X_train, X_test, y_train, y_test = train_test_split(X, y, test_size=0.2, random_state=42)\n",
    "model.fit(X_train, y_train)\n",
    "\n",
    "# Step 6: Evaluate the model\n",
    "y_pred = model.predict(X_test)\n",
    "\n",
    "print(\"Mean Absolute Error (MAE):\", mean_absolute_error(y_test, y_pred))\n",
    "print(\"Root Mean Squared Error (RMSE):\", np.sqrt(mean_squared_error(y_test, y_pred)))\n"
   ]
  },
  {
   "cell_type": "markdown",
   "id": "71f35632-d53f-4192-92db-fb2933ce348b",
   "metadata": {},
   "source": [
    "### Model Performance\n",
    "Mean Absolute Error (MAE): 7.37 days\n",
    "\n",
    "Root Mean Squared Error (RMSE): 8.72 days\n",
    "\n",
    "What these numbers mean:\n",
    "Metric\tValue\tInterpretation\n",
    "MAE\t7.37 days\tOn average, the model's predictions are off by about 7.4 days. This is a linear measure of error.\n",
    "RMSE\t8.72 days\tThe average error, giving more weight to larger errors. Indicates some outliers exist.\n"
   ]
  },
  {
   "cell_type": "code",
   "execution_count": null,
   "id": "b3b3d77e-2b14-41ee-9e7d-4b0d4b8581be",
   "metadata": {},
   "outputs": [],
   "source": []
  }
 ],
 "metadata": {
  "kernelspec": {
   "display_name": "Python 3 (ipykernel)",
   "language": "python",
   "name": "python3"
  },
  "language_info": {
   "codemirror_mode": {
    "name": "ipython",
    "version": 3
   },
   "file_extension": ".py",
   "mimetype": "text/x-python",
   "name": "python",
   "nbconvert_exporter": "python",
   "pygments_lexer": "ipython3",
   "version": "3.13.2"
  }
 },
 "nbformat": 4,
 "nbformat_minor": 5
}
