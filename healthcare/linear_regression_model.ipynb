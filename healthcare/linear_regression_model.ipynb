{
 "cells": [
  {
   "cell_type": "markdown",
   "id": "32a264b9-65d4-4aca-9523-587ff663aa07",
   "metadata": {},
   "source": [
    "### Linear Regression model"
   ]
  },
  {
   "cell_type": "code",
   "execution_count": 1,
   "id": "2c34a8e4-f73c-4cb4-918c-963a68a00f4d",
   "metadata": {},
   "outputs": [
    {
     "name": "stdout",
     "output_type": "stream",
     "text": [
      "Mean Absolute Error (MAE): 7.482258558325104\n",
      "Root Mean Squared Error (RMSE): 8.631175739030652\n"
     ]
    }
   ],
   "source": [
    "import pandas as pd\n",
    "import numpy as np\n",
    "from sklearn.compose import ColumnTransformer\n",
    "from sklearn.impute import SimpleImputer\n",
    "from sklearn.pipeline import Pipeline\n",
    "from sklearn.preprocessing import OneHotEncoder\n",
    "from sklearn.linear_model import LinearRegression\n",
    "from sklearn.model_selection import train_test_split\n",
    "from sklearn.metrics import mean_absolute_error, mean_squared_error\n",
    "\n",
    "# Step 1: Load data and compute Length of Stay\n",
    "df = pd.read_csv('healthcare_dataset.csv')\n",
    "df['Date of Admission'] = pd.to_datetime(df['Date of Admission'])\n",
    "df['Discharge Date'] = pd.to_datetime(df['Discharge Date'])\n",
    "df['Length_of_Stay'] = (df['Discharge Date'] - df['Date of Admission']).dt.days\n",
    "\n",
    "# Step 2: Select features and target\n",
    "features = [\n",
    "    'Age', 'Gender', 'Admission Type', 'Medical Condition',\n",
    "    'Medication', 'Room Number'\n",
    "]\n",
    "target = 'Length_of_Stay'\n",
    "\n",
    "X = df[features]\n",
    "y = df[target]\n",
    "\n",
    "# Step 3: Preprocessing pipeline\n",
    "categorical_cols = ['Gender', 'Admission Type', 'Medical Condition', 'Medication']\n",
    "numerical_cols = ['Age', 'Room Number']\n",
    "\n",
    "preprocessor = ColumnTransformer([\n",
    "    ('cat', OneHotEncoder(handle_unknown='ignore'), categorical_cols),\n",
    "    ('num', SimpleImputer(strategy='median'), numerical_cols)\n",
    "])\n",
    "\n",
    "# Step 4: Create the pipeline with Linear Regression\n",
    "model = Pipeline(steps=[\n",
    "    ('preprocessing', preprocessor),\n",
    "    ('regressor', LinearRegression())\n",
    "])\n",
    "\n",
    "# Step 5: Train-test split and model fitting\n",
    "X_train, X_test, y_train, y_test = train_test_split(X, y, test_size=0.2, random_state=42)\n",
    "model.fit(X_train, y_train)\n",
    "\n",
    "# Step 6: Evaluate the model\n",
    "y_pred = model.predict(X_test)\n",
    "\n",
    "print(\"Mean Absolute Error (MAE):\", mean_absolute_error(y_test, y_pred))\n",
    "print(\"Root Mean Squared Error (RMSE):\", np.sqrt(mean_squared_error(y_test, y_pred)))\n"
   ]
  },
  {
   "cell_type": "markdown",
   "id": "d17e83c3-30f8-4aff-9eb3-1ff7ddafbc15",
   "metadata": {},
   "source": [
    "### Model Performance Summary\n",
    "MAE: 7.48 days — average prediction error\n",
    "\n",
    "RMSE: 8.63 days — typical error size, slightly penalizing larger mistakes\n",
    "\n",
    "📉 Interpretation\n",
    "The model's predictions are off by about 7.5–8.6 days, which is high unless hospital stays are very long or variable.\n",
    "\n",
    "The small gap between MAE and RMSE suggests errors are consistent, with few large outliers.\n",
    "\n",
    "⚠️ Possible Issues\n",
    "Limited features: Key clinical or operational data may be missing.\n",
    "\n",
    "Room Number and Medication may not be meaningful or well-processed.\n",
    "\n",
    "Random Forest might not capture complex patterns in the data.\n",
    "\n",
    "✅ Recommendations\n",
    "Add better features — diagnosis severity, comorbidities, medication classes.\n",
    "\n",
    "Try advanced models — like XGBoost or LightGBM.\n",
    "\n",
    "Transform the target — consider log-scaling if Length_of_Stay is skewed.\n",
    "\n",
    "Evaluate error by patient group — e.g., short vs. long stays."
   ]
  },
  {
   "cell_type": "code",
   "execution_count": null,
   "id": "cf7bdef7-9710-4ec6-af72-b5c56b6b8855",
   "metadata": {},
   "outputs": [],
   "source": []
  }
 ],
 "metadata": {
  "kernelspec": {
   "display_name": "Python 3 (ipykernel)",
   "language": "python",
   "name": "python3"
  },
  "language_info": {
   "codemirror_mode": {
    "name": "ipython",
    "version": 3
   },
   "file_extension": ".py",
   "mimetype": "text/x-python",
   "name": "python",
   "nbconvert_exporter": "python",
   "pygments_lexer": "ipython3",
   "version": "3.13.2"
  }
 },
 "nbformat": 4,
 "nbformat_minor": 5
}
