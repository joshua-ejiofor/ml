{
 "cells": [
  {
   "cell_type": "markdown",
   "id": "ab59d272-8a77-4c83-9d96-8c61ecdf0e62",
   "metadata": {},
   "source": [
    "### TOTAL GOAL IN EPL FOR THE PAST TEN SEASON"
   ]
  },
  {
   "cell_type": "code",
   "execution_count": 1,
   "id": "a8bcb7a9-956c-4425-9f18-fb53b693a43f",
   "metadata": {},
   "outputs": [
    {
     "name": "stdout",
     "output_type": "stream",
     "text": [
      "Saved successfully!\n"
     ]
    }
   ],
   "source": [
    "import pandas as pd\n",
    "\n",
    "url = \"https://fbref.com/en/comps/9/history/Premier-League-Seasons\"\n",
    "tables = pd.read_html(url)  # This reads all tables on the page\n",
    "\n",
    "# Usually the first table is the main seasons table\n",
    "df = tables[0]\n",
    "\n",
    "# Save to CSV\n",
    "df.to_csv('premier_league_seasons.csv', index=False)\n",
    "\n",
    "print(\"Saved successfully!\")\n"
   ]
  },
  {
   "cell_type": "code",
   "execution_count": 2,
   "id": "b34ce463-9ec9-40aa-9aa5-6e63086d044d",
   "metadata": {},
   "outputs": [
    {
     "name": "stdout",
     "output_type": "stream",
     "text": [
      "                      Player  Total Goals\n",
      "0              Mohamed Salah           82\n",
      "3                 Harry Kane           77\n",
      "1             Erling Haaland           63\n",
      "2              Son Heung-min           23\n",
      "4                Jamie Vardy           23\n",
      "5  Pierre-Emerick Aubameyang           22\n",
      "6              Sadio Mané...           22\n"
     ]
    }
   ],
   "source": [
    "import pandas as pd\n",
    "\n",
    "# Step 1: Load the data\n",
    "df = pd.read_csv('premier_league_seasons.csv')\n",
    "\n",
    "# Step 2: Keep only the last 10 seasons\n",
    "last_10_seasons = df.head(10)  # Assuming the most recent season is at the top\n",
    "\n",
    "# Step 3: Create a dictionary to store player -> total goals\n",
    "from collections import defaultdict\n",
    "\n",
    "player_goals = defaultdict(int)\n",
    "\n",
    "# Step 4: Loop through Top Scorer column\n",
    "for top_scorer in last_10_seasons['Top Scorer']:\n",
    "    if pd.isna(top_scorer):\n",
    "        continue  # skip if no data\n",
    "    # Split name and goals\n",
    "    parts = top_scorer.split(' - ')\n",
    "    if len(parts) == 2:\n",
    "        names_part, goals_part = parts\n",
    "        goal_count = int(goals_part.strip())\n",
    "        # Some years have multiple players separated by commas\n",
    "        players = [name.strip() for name in names_part.split(',')]\n",
    "        for player in players:\n",
    "            player_goals[player] += goal_count\n",
    "\n",
    "# Step 5: Convert to DataFrame\n",
    "players_df = pd.DataFrame(list(player_goals.items()), columns=['Player', 'Total Goals'])\n",
    "\n",
    "# Step 6: Sort descending\n",
    "players_df = players_df.sort_values(by='Total Goals', ascending=False)\n",
    "\n",
    "print(players_df)\n"
   ]
  },
  {
   "cell_type": "markdown",
   "id": "6a148737-6fdf-413e-811d-cba02db911dd",
   "metadata": {},
   "source": [
    "### TOTAL CORNERS IN 2024/2025 EPL "
   ]
  },
  {
   "cell_type": "code",
   "execution_count": 3,
   "id": "15cdd421-fbf3-4144-ac8c-a7b3fe393c62",
   "metadata": {},
   "outputs": [
    {
     "name": "stdout",
     "output_type": "stream",
     "text": [
      "Page 0 processed with 10 teams.\n",
      "Page 1 processed with 10 teams.\n",
      "No data found on page 2. Exiting.\n",
      "   Rank                     Team Corners Taken\n",
      "0     1        Tottenham Hotspur           233\n",
      "1     2                  Arsenal           230\n",
      "2     3                Liverpool           229\n",
      "3     4          Manchester City           225\n",
      "4     5              Aston Villa           213\n",
      "5     6                  Chelsea           212\n",
      "6     7          AFC Bournemouth           208\n",
      "7     8         Newcastle United           192\n",
      "8     9                   Fulham           191\n",
      "9    10        Manchester United           180\n",
      "10   11   Brighton & Hove Albion           169\n",
      "11   12           Crystal Palace           156\n",
      "12   13                Brentford           148\n",
      "13   14                  Everton           140\n",
      "14   15          West Ham United           138\n",
      "15   16              Southampton           134\n",
      "16   17        Nottingham Forest           133\n",
      "17   18             Ipswich Town           131\n",
      "18   19           Leicester City           126\n",
      "19   20  Wolverhampton Wanderers           119\n"
     ]
    }
   ],
   "source": [
    "from selenium import webdriver\n",
    "from selenium.webdriver.chrome.service import Service\n",
    "from webdriver_manager.chrome import ChromeDriverManager\n",
    "from selenium.webdriver.common.by import By\n",
    "from selenium.webdriver.support.ui import WebDriverWait\n",
    "from selenium.webdriver.support import expected_conditions as EC\n",
    "import pandas as pd\n",
    "import time\n",
    "\n",
    "def get_complete_corner_stats():\n",
    "    options = webdriver.ChromeOptions()\n",
    "    options.add_argument('--headless')\n",
    "    service = Service(ChromeDriverManager().install())\n",
    "    driver = webdriver.Chrome(service=service, options=options)\n",
    "\n",
    "    all_teams = []\n",
    "    current_page = 0\n",
    "\n",
    "    try:\n",
    "        while True:\n",
    "            url = f\"https://www.fotmob.com/leagues/47/stats/season/23685/teams/corner_taken_team/premier-league-teams?page={current_page}\"\n",
    "            driver.get(url)\n",
    "\n",
    "            try:\n",
    "                WebDriverWait(driver, 15).until(\n",
    "                    EC.presence_of_element_located((By.CSS_SELECTOR, 'div[class*=\"LeagueSeasonStatsTableRowCSS\"]'))\n",
    "                )\n",
    "            except:\n",
    "                print(f\"No data found on page {current_page}. Exiting.\")\n",
    "                break\n",
    "\n",
    "            driver.execute_script(\"window.scrollTo(0, document.body.scrollHeight);\")\n",
    "            time.sleep(1.5)\n",
    "\n",
    "            teams = driver.find_elements(By.CSS_SELECTOR, 'div[class*=\"LeagueSeasonStatsTableRowCSS\"]')\n",
    "            if not teams:\n",
    "                print(f\"No teams found on page {current_page}, stopping.\")\n",
    "                break\n",
    "\n",
    "            for team in teams:\n",
    "                try:\n",
    "                    rank = team.find_element(By.CSS_SELECTOR, 'span[class*=\"Rank\"]').text.strip()\n",
    "                    name = team.find_element(By.CSS_SELECTOR, 'span[class*=\"TeamOrPlayerName\"]').text.strip()\n",
    "                    corners = team.find_element(By.CSS_SELECTOR, 'span[class*=\"StatValue\"] span').text.strip()\n",
    "                    all_teams.append({\n",
    "                        'Rank': rank,\n",
    "                        'Team': name,\n",
    "                        'Corners Taken': corners\n",
    "                    })\n",
    "                except Exception as e:\n",
    "                    print(f\"Skipping a row due to error: {e}\")\n",
    "\n",
    "            print(f\"Page {current_page} processed with {len(teams)} teams.\")\n",
    "            current_page += 1\n",
    "\n",
    "    finally:\n",
    "        driver.quit()\n",
    "\n",
    "    df = pd.DataFrame(all_teams)\n",
    "    return df[['Rank', 'Team', 'Corners Taken']]\n",
    "\n",
    "# Run and output\n",
    "corner_data = get_complete_corner_stats()\n",
    "print(corner_data)\n",
    "corner_data.to_csv('complete_corner_stats.csv', index=False)\n",
    "\n"
   ]
  },
  {
   "cell_type": "code",
   "execution_count": 5,
   "id": "7c849121-e0fc-476a-ab45-a188cff71c1b",
   "metadata": {},
   "outputs": [
    {
     "name": "stdout",
     "output_type": "stream",
     "text": [
      "Total corners taken in the Premier League this season: 3507\n"
     ]
    }
   ],
   "source": [
    "import pandas as pd\n",
    "\n",
    "# Load the CSV file\n",
    "df = pd.read_csv('complete_corner_stats.csv')\n",
    "\n",
    "# Ensure 'Corners Taken' is numeric\n",
    "df['Corners Taken'] = pd.to_numeric(df['Corners Taken'], errors='coerce')\n",
    "\n",
    "# Sum the corners\n",
    "total_corners = df['Corners Taken'].sum()\n",
    "\n",
    "print(f\"Total corners taken in the Premier League this season: {total_corners}\")\n"
   ]
  },
  {
   "cell_type": "code",
   "execution_count": 11,
   "id": "3e9b6383-1970-4d10-9d36-af13cad04a2c",
   "metadata": {},
   "outputs": [
    {
     "data": {
      "image/png": "[encoded data removed]",
      "text/plain": [
       "<Figure size 800x600 with 1 Axes>"
      ]
     },
     "metadata": {},
     "output_type": "display_data"
    }
   ],
   "source": [
    "import pandas as pd\n",
    "import matplotlib.pyplot as plt\n",
    "\n",
    "# Load CSV\n",
    "df = pd.read_csv('complete_corner_stats.csv')\n",
    "\n",
    "# Clean and sum the corners\n",
    "df['Corners Taken'] = pd.to_numeric(df['Corners Taken'], errors='coerce')\n",
    "total_corners = df['Corners Taken'].sum()\n",
    "\n",
    "# Create big number chart\n",
    "plt.figure(figsize=(8, 6))\n",
    "plt.text(0.5, 0.5, f\"{total_corners:,}\", fontsize=72, ha='center', va='center', weight='bold', color='darkblue')\n",
    "plt.title(\"Total Corners Taken - Premier League 2024/2025\", fontsize=18)\n",
    "plt.axis('off')\n",
    "plt.tight_layout()\n",
    "plt.show()\n"
   ]
  },
  {
   "cell_type": "code",
   "execution_count": null,
   "id": "6d7aba31-67d6-45fb-9d3f-af8bb794eaac",
   "metadata": {},
   "outputs": [],
   "source": []
  }
 ],
 "metadata": {
  "kernelspec": {
   "display_name": "Python 3 (ipykernel)",
   "language": "python",
   "name": "python3"
  },
  "language_info": {
   "codemirror_mode": {
    "name": "ipython",
    "version": 3
   },
   "file_extension": ".py",
   "mimetype": "text/x-python",
   "name": "python",
   "nbconvert_exporter": "python",
   "pygments_lexer": "ipython3",
   "version": "3.13.2"
  }
 },
 "nbformat": 4,
 "nbformat_minor": 5
}
