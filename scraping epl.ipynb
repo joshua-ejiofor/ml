{
 "cells": [
  {
   "cell_type": "code",
   "execution_count": 1,
   "id": "a8bcb7a9-956c-4425-9f18-fb53b693a43f",
   "metadata": {},
   "outputs": [
    {
     "name": "stdout",
     "output_type": "stream",
     "text": [
      "Saved successfully!\n"
     ]
    }
   ],
   "source": [
    "import pandas as pd\n",
    "\n",
    "url = \"https://fbref.com/en/comps/9/history/Premier-League-Seasons\"\n",
    "tables = pd.read_html(url)  # This reads all tables on the page\n",
    "\n",
    "# Usually the first table is the main seasons table\n",
    "df = tables[0]\n",
    "\n",
    "# Save to CSV\n",
    "df.to_csv('premier_league_seasons.csv', index=False)\n",
    "\n",
    "print(\"Saved successfully!\")\n"
   ]
  },
  {
   "cell_type": "code",
   "execution_count": 2,
   "id": "b34ce463-9ec9-40aa-9aa5-6e63086d044d",
   "metadata": {},
   "outputs": [
    {
     "name": "stdout",
     "output_type": "stream",
     "text": [
      "                      Player  Total Goals\n",
      "0              Mohamed Salah           82\n",
      "3                 Harry Kane           77\n",
      "1             Erling Haaland           63\n",
      "2              Son Heung-min           23\n",
      "4                Jamie Vardy           23\n",
      "5  Pierre-Emerick Aubameyang           22\n",
      "6              Sadio Mané...           22\n"
     ]
    }
   ],
   "source": [
    "import pandas as pd\n",
    "\n",
    "# Step 1: Load the data\n",
    "df = pd.read_csv('premier_league_seasons.csv')\n",
    "\n",
    "# Step 2: Keep only the last 10 seasons\n",
    "last_10_seasons = df.head(10)  # Assuming the most recent season is at the top\n",
    "\n",
    "# Step 3: Create a dictionary to store player -> total goals\n",
    "from collections import defaultdict\n",
    "\n",
    "player_goals = defaultdict(int)\n",
    "\n",
    "# Step 4: Loop through Top Scorer column\n",
    "for top_scorer in last_10_seasons['Top Scorer']:\n",
    "    if pd.isna(top_scorer):\n",
    "        continue  # skip if no data\n",
    "    # Split name and goals\n",
    "    parts = top_scorer.split(' - ')\n",
    "    if len(parts) == 2:\n",
    "        names_part, goals_part = parts\n",
    "        goal_count = int(goals_part.strip())\n",
    "        # Some years have multiple players separated by commas\n",
    "        players = [name.strip() for name in names_part.split(',')]\n",
    "        for player in players:\n",
    "            player_goals[player] += goal_count\n",
    "\n",
    "# Step 5: Convert to DataFrame\n",
    "players_df = pd.DataFrame(list(player_goals.items()), columns=['Player', 'Total Goals'])\n",
    "\n",
    "# Step 6: Sort descending\n",
    "players_df = players_df.sort_values(by='Total Goals', ascending=False)\n",
    "\n",
    "print(players_df)\n"
   ]
  },
  {
   "cell_type": "code",
   "execution_count": null,
   "id": "0f7835c1-2a36-4730-8079-7dae75561c1a",
   "metadata": {},
   "outputs": [],
   "source": []
  }
 ],
 "metadata": {
  "kernelspec": {
   "display_name": "Python 3 (ipykernel)",
   "language": "python",
   "name": "python3"
  },
  "language_info": {
   "codemirror_mode": {
    "name": "ipython",
    "version": 3
   },
   "file_extension": ".py",
   "mimetype": "text/x-python",
   "name": "python",
   "nbconvert_exporter": "python",
   "pygments_lexer": "ipython3",
   "version": "3.13.2"
  }
 },
 "nbformat": 4,
 "nbformat_minor": 5
}
