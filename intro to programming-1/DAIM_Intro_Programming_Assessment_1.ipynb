{
 "cells": [
  {
   "cell_type": "markdown",
   "id": "4733622f",
   "metadata": {},
   "source": [
    "# Introduction to Programming for Artificial Intelligence and Data                                 Science Assessment 1\n",
    "## Customer Data Pre-processing\n",
    "### By\n",
    "### Joshua Ejiofor Abonyi\n",
    "### Student ID: 202333142"
   ]
  },
  {
   "cell_type": "markdown",
   "id": "10069ffa",
   "metadata": {},
   "source": [
    "## Introduction\n",
    "An extensive collection of data named \"acw_user_data\" has been provided in CSV file format. It contains customer records\n",
    "which is to be processed and analysed for filtering and metrics derivation.\n",
    "\n",
    "#### First, the python libraries need to be imported:"
   ]
  },
  {
   "cell_type": "code",
   "execution_count": 1,
   "id": "86392132",
   "metadata": {},
   "outputs": [],
   "source": [
    "# Importing the necessary libraries\n",
    "\n",
    "import csv\n",
    "import json\n",
    "from datetime import datetime\n",
    "import matplotlib.pyplot as plt\n",
    "%matplotlib inline"
   ]
  },
  {
   "cell_type": "markdown",
   "id": "0ba1b4c1",
   "metadata": {},
   "source": [
    "## Data Processing\n",
    "\n",
    "### 1. Reading in the provided ACW Data using the CSV library"
   ]
  },
  {
   "cell_type": "code",
   "execution_count": 2,
   "id": "d9c15044",
   "metadata": {},
   "outputs": [],
   "source": [
    "# Using try and exception to handle errors\n",
    "\n",
    "try:\n",
    "    # Initialising an empty list to store customer data\n",
    "    customer_data = []\n",
    "\n",
    "    # Opening the CSV file for reading\n",
    "    with open('acw_user_data.csv', mode='r') as csv_file:\n",
    "        # Creating a CSV reader object with the specified delimiter\n",
    "        csv_reader = csv.reader(csv_file, delimiter=',')\n",
    "\n",
    "        # Looping through each row in the CSV file and appending it to the customer_data list\n",
    "        for dt in csv_reader:\n",
    "            customer_data.append(dt)\n",
    "\n",
    "# Catching and handling the FileNotFoundError\n",
    "except FileNotFoundError as file_err:\n",
    "    # Printing an error message if the file is not found\n",
    "    print(file_err, 'Uh oh! Forgot to place the file where the Jupyter Notebook is saved.')\n",
    "\n",
    "# If no error occurs, this block will execute\n",
    "else:\n",
    "    # Printing the first few rows of the customer_data list to verify successful data loading\n",
    "    # This approach avoids printing the entire dataset, which can be very large\n",
    "    print(\"First few rows of data:\", customer_data[:5])"
   ]
  },
  {
   "cell_type": "markdown",
   "id": "644a3288",
   "metadata": {},
   "source": [
    "#### - It is necessary to know the number of columns in the dataset.\n",
    "This can be done by enumerating the list containing it. "
   ]
  },
  {
   "cell_type": "code",
   "execution_count": 3,
   "id": "0bf121ce",
   "metadata": {},
   "outputs": [],
   "source": [
    "# Numbering the list of column names\n",
    "for line_num, dt in enumerate(customer_data[0]):\n",
    "    print(line_num, dt)"
   ]
  },
  {
   "cell_type": "markdown",
   "id": "95e844b5",
   "metadata": {},
   "source": [
    "### 2. Converting the CSV flat file to a nested structure"
   ]
  },
  {
   "cell_type": "code",
   "execution_count": 4,
   "id": "f583deb8",
   "metadata": {},
   "outputs": [],
   "source": [
    "# Initialising an empty list\n",
    "structured_data = []\n",
    "\n",
    "# Iterating over each row in the dataset, skipping the header row\n",
    "for row in customer_data[1:]:\n",
    "    # Creating a dictionary for each customer with nested structures for Vehicle, Credit Card, and Address\n",
    "    person = {\n",
    "        'FirstName': row[11],\n",
    "        'LastName': row[13],\n",
    "        'Age': int(row[3]),\n",
    "        'DistanceCommuted': float(row[4]),\n",
    "        'Employer': row[5],\n",
    "        'Dependants': int(row[10]) if row[10].isdigit() else 0,  # Defaulting to 0 if not a digit\n",
    "        'MaritalStatus': row[14],\n",
    "        'YearlyPension': float(row[15]),\n",
    "        'Retired': row[16],\n",
    "        'YearlySalary': float(row[17]),\n",
    "        'Sex': row[18],\n",
    "        'Vehicle': {\n",
    "            'Make': row[19],\n",
    "            'Model': row[20],\n",
    "            'Year': int(row[21]),\n",
    "            'Type': row[22]\n",
    "        },\n",
    "        'CreditCard': {\n",
    "            'StartDate': row[6],\n",
    "            'ExpiryDate': row[7],\n",
    "            'Number': row[8],\n",
    "            'CVV': row[9],\n",
    "            'IBAN': row[12]\n",
    "        },\n",
    "        'Address': {\n",
    "            'Street': row[0],\n",
    "            'City': row[1],\n",
    "            'Postcode': row[2]\n",
    "        }\n",
    "    }\n",
    "    structured_data.append(person)  # Adding the structured person data to the list"
   ]
  },
  {
   "cell_type": "markdown",
   "id": "1bfdf913",
   "metadata": {},
   "source": [
    "### Print the output\n"
   ]
  },
  {
   "cell_type": "code",
   "execution_count": 5,
   "id": "d4945aca",
   "metadata": {},
   "outputs": [],
   "source": [
    "structured_data"
   ]
  },
  {
   "cell_type": "markdown",
   "id": "b8f7f2d4",
   "metadata": {},
   "source": [
    "### 3. Writing all records to a `processed.json` file in the JSON data format\n",
    "The programme went ahead to check that the written file is uncompromised by first reading it and setting the read data `True` against the `acw_data` that was dumped in it initially."
   ]
  },
  {
   "cell_type": "code",
   "execution_count": 6,
   "id": "2bd858da",
   "metadata": {},
   "outputs": [],
   "source": [
    "with open('processed.json', mode='w') as json_file:    #create, open, write\n",
    "    json.dump(structured_data, json_file, indent=4)\n",
    "    \n",
    "with open('processed.json', mode='r') as json_file:    #open, read, assign\n",
    "    structured_data_2 = json.load(json_file)\n",
    "    \n",
    "if len(structured_data) == len(structured_data_2):    #checking if its intact\n",
    "    print(\"True\")"
   ]
  },
  {
   "cell_type": "markdown",
   "id": "e5f63cba",
   "metadata": {},
   "source": [
    "### 4. Creating two additional file outputs, `retired.json` and `employed.json`"
   ]
  },
  {
   "cell_type": "code",
   "execution_count": 7,
   "id": "0641cbdd",
   "metadata": {},
   "outputs": [],
   "source": [
    "# Filtering out retired customers\n",
    "retired = [person for person in structured_data if person['Retired'] == 'True']\n",
    "# Filtering out employed customers\n",
    "employed = [person for person in structured_data if person['Employer'] != '']\n",
    "\n",
    "# Writing the filtered data to respective JSON files\n",
    "with open('retired.json', 'w') as file:\n",
    "    json.dump(retired, file, indent=4)\n",
    "\n",
    "with open('employed.json', 'w') as file:\n",
    "    json.dump(employed, file, indent=4)"
   ]
  },
  {
   "cell_type": "markdown",
   "id": "201e481e",
   "metadata": {},
   "source": [
    "### 5. Credit Card Validation"
   ]
  },
  {
   "cell_type": "code",
   "execution_count": 8,
   "id": "30eeb919",
   "metadata": {},
   "outputs": [],
   "source": [
    "#stackoverflow, 2023\n",
    "\n",
    "# Writing a function to check validity of credit card based on the start and expiry dates\n",
    "def is_credit_card_valid(person):\n",
    "    try:\n",
    "        # Adjusting the format to match date format, e.g., 'MM/YY'\n",
    "        start_date = datetime.strptime(person['CreditCard']['StartDate'], '%m/%y')\n",
    "        expiry_date = datetime.strptime(person['CreditCard']['ExpiryDate'], '%m/%y')\n",
    "\n",
    "        # Adjusting the years if they are provided in two digits\n",
    "        # Assuming the century is 2000 if the year is less than 70 (e.g., '69' becomes 2069, '18' becomes 2018)\n",
    "        start_date = start_date.replace(year=start_date.year + 100) if start_date.year < 1970 else start_date\n",
    "        expiry_date = expiry_date.replace(year=expiry_date.year + 100) if expiry_date.year < 1970 else expiry_date\n",
    "\n",
    "        return (expiry_date - start_date).days <= 3650  # Check if the date difference is less than or equal to 10 years\n",
    "    except ValueError:\n",
    "        # Handling cases where the date format might be incorrect or missing\n",
    "        return False  \n",
    "\n",
    "# Filtering customers with invalid credit cards\n",
    "invalid_credit_cards = [person for person in structured_data if not is_credit_card_valid(person)]\n",
    "\n",
    "# Writing these customers to a JSON file\n",
    "with open('remove_ccard.json', 'w') as file:\n",
    "    json.dump(invalid_credit_cards, file, indent=4)"
   ]
  },
  {
   "cell_type": "markdown",
   "id": "e5ffabef",
   "metadata": {},
   "source": [
    "### 6. Calculating some additional metrics"
   ]
  },
  {
   "cell_type": "code",
   "execution_count": 9,
   "id": "ca3ea906",
   "metadata": {},
   "outputs": [],
   "source": [
    "# Python Software Foundation 2023\n",
    "\n",
    "import copy\n",
    "\n",
    "# Creating a deep copy of structured_data\n",
    "structured_data_with_metric = copy.deepcopy(structured_data)\n",
    "\n",
    "# Calculating the 'Salary-Commute' metric for each person in the copied list\n",
    "for person in structured_data_with_metric:\n",
    "    commute_distance = person['DistanceCommuted']\n",
    "    salary = person['YearlySalary']\n",
    "    # Calculating salary per km of commute\n",
    "    person['Salary-Commute'] = salary if commute_distance <= 1 else salary / commute_distance\n",
    "\n",
    "# Sorting the data in the copied list based on the 'Salary-Commute' metric\n",
    "structured_data_with_metric.sort(key=lambda x: x['Salary-Commute'])\n",
    "\n",
    "# Writing the sorted data to a JSON file\n",
    "with open('commute.json', 'w') as file:\n",
    "    json.dump(structured_data_with_metric, file, indent=4)"
   ]
  },
  {
   "cell_type": "markdown",
   "id": "8389555d",
   "metadata": {},
   "source": [
    "### Let's have a peak at the sorted data"
   ]
  },
  {
   "cell_type": "code",
   "execution_count": 10,
   "id": "57f8430b",
   "metadata": {},
   "outputs": [],
   "source": [
    "structured_data_with_metric"
   ]
  },
  {
   "cell_type": "markdown",
   "id": "c96a3b95",
   "metadata": {},
   "source": [
    "## Data Visualisation\n",
    "### The programme used pandas and seaborn for the visualisation below:"
   ]
  },
  {
   "cell_type": "code",
   "execution_count": 11,
   "id": "d7f6044d",
   "metadata": {},
   "outputs": [],
   "source": [
    "import pandas as pd\n",
    "import seaborn as sns"
   ]
  },
  {
   "cell_type": "code",
   "execution_count": 12,
   "id": "53aa0271",
   "metadata": {},
   "outputs": [],
   "source": [
    "# Reading the CSV file into a Pandas DataFrame\n",
    "acw_data_frame = pd.read_csv('acw_user_data.csv')  #reading in the CSV file with pandas\n",
    "acw_data_frame"
   ]
  },
  {
   "cell_type": "code",
   "execution_count": 13,
   "id": "8f50aee1",
   "metadata": {},
   "outputs": [],
   "source": [
    "print(type(acw_data_frame))  #confirming the datatype"
   ]
  },
  {
   "cell_type": "code",
   "execution_count": 14,
   "id": "65911535",
   "metadata": {},
   "outputs": [],
   "source": [
    "acw_data_frame.isnull().any()  #checking for any null values"
   ]
  },
  {
   "cell_type": "markdown",
   "id": "7e0b4da6",
   "metadata": {},
   "source": [
    "## 1. Obtaining the data series for salary and age"
   ]
  },
  {
   "cell_type": "code",
   "execution_count": 15,
   "id": "12d57cc6",
   "metadata": {},
   "outputs": [],
   "source": [
    "# Data Series for Salary and Age\n",
    "salary_series = acw_data_frame['Yearly Salary (GBP)']\n",
    "age_series = acw_data_frame['Age (Years)']\n",
    "\n",
    "# Printing the Data Series for Salary and Age\n",
    "print(\"Salary Series:\")\n",
    "print(salary_series)\n",
    "print(\"\\nAge Series:\")\n",
    "print(age_series)"
   ]
  },
  {
   "cell_type": "markdown",
   "id": "20bc2ef3",
   "metadata": {},
   "source": [
    "#### Calculating their respective mean and median "
   ]
  },
  {
   "cell_type": "code",
   "execution_count": 16,
   "id": "9806adc3",
   "metadata": {},
   "outputs": [],
   "source": [
    "# Calculating Mean Salary and Median Age\n",
    "mean_salary = salary_series.mean()\n",
    "median_age = age_series.median()\n",
    "\n",
    "print(f\"Mean Salary of Customers = £{mean_salary:.2f}\")\n",
    "print(f\"Median Age of Customers = {round(median_age)} years\")"
   ]
  },
  {
   "cell_type": "markdown",
   "id": "e2a31165",
   "metadata": {},
   "source": [
    "## 2. Univariate Plots\n",
    "a) Age Distribution with Bin Width of 5"
   ]
  },
  {
   "cell_type": "code",
   "execution_count": 17,
   "id": "35bbb4d4",
   "metadata": {},
   "outputs": [],
   "source": [
    "#QiMacros, 2020\n",
    "# Determining the number of bins with a bin width of 5\n",
    "max_age = acw_data_frame['Age (Years)'].max()\n",
    "min_age = acw_data_frame['Age (Years)'].min()\n",
    "num_bins = (max_age - min_age) // 5 + 1\n",
    "print(f\"Number of bins for Age with a bin width of 5: {num_bins}\")"
   ]
  },
  {
   "cell_type": "code",
   "execution_count": 18,
   "id": "632ced85",
   "metadata": {},
   "outputs": [],
   "source": [
    "# Plotting Age Distribution\n",
    "plt.figure(figsize=(10, 6))\n",
    "univar_age = sns.histplot(acw_data_frame['Age (Years)'], bins=num_bins)\n",
    "plt.title('Age Distribution')\n",
    "plt.xlabel('Age (Years)')\n",
    "plt.ylabel('Count')\n",
    "plt.show()"
   ]
  },
  {
   "cell_type": "markdown",
   "id": "17fa6dc3",
   "metadata": {},
   "source": [
    "b) Dependents Count Plot (Fixing Data Errors)"
   ]
  },
  {
   "cell_type": "code",
   "execution_count": 19,
   "id": "8e62e908",
   "metadata": {},
   "outputs": [],
   "source": [
    "# Converting to numeric, filling non-numeric with NaN, then replace NaN with 0\n",
    "acw_data_frame['Dependants'] = pd.to_numeric(acw_data_frame['Dependants'], errors='coerce').fillna(0)\n",
    "\n",
    "# Printing the corrected 'Dependants' series\n",
    "print(\"Corrected Dependents Series:\")\n",
    "print(acw_data_frame['Dependants'].head())\n",
    "\n",
    "# Plotting Dependents Count\n",
    "plt.figure(figsize=(10, 6))\n",
    "univar_dependants = sns.countplot(x='Dependants', data=acw_data_frame)\n",
    "plt.title('Dependents Count')\n",
    "plt.xlabel('Number of Dependents')\n",
    "plt.ylabel('Count')\n",
    "plt.show()"
   ]
  },
  {
   "cell_type": "markdown",
   "id": "4eadcd6c",
   "metadata": {},
   "source": [
    "c) Age Distribution on Marital Status"
   ]
  },
  {
   "cell_type": "code",
   "execution_count": 20,
   "id": "e3c39c21",
   "metadata": {
    "scrolled": true
   },
   "outputs": [],
   "source": [
    "#stackoverflow,2023\n",
    "\n",
    "# Plotting Age Distribution Conditioned on Marital Status\n",
    "plt.figure(figsize=(10, 6))\n",
    "age_married_graph = sns.histplot(acw_data_frame, x='Age (Years)', hue='Marital Status', multiple='stack')\n",
    "plt.title('Age Distribution by Marital Status')\n",
    "plt.xlabel('Age (Years)')\n",
    "plt.ylabel('Count')\n",
    "plt.show()"
   ]
  },
  {
   "cell_type": "markdown",
   "id": "aab46952",
   "metadata": {},
   "source": [
    "#### 3. Performing multivariate plots for:\n",
    "a. `Commuted distance` against `Salary`\n",
    "\n",
    "b. `Age` against `Salary`\n",
    "\n",
    "c. `Age` against `Salary` conditioned by `Dependants`"
   ]
  },
  {
   "cell_type": "code",
   "execution_count": 21,
   "id": "eb557aca",
   "metadata": {},
   "outputs": [],
   "source": [
    "#a. `Commuted distance` against `Salary`\n",
    "\n",
    "# Scatter plot for Commuted Distance vs. Salary\n",
    "plt.figure(figsize=(10, 6))\n",
    "multivar_salary_commute = sns.scatterplot(x='Distance Commuted to Work (Km)', y='Yearly Salary (GBP)', data=acw_data_frame)\n",
    "plt.title('Commuted Distance vs. Salary')\n",
    "plt.xlabel('Distance Commuted to Work (Km)')\n",
    "plt.ylabel('Yearly Salary (GBP)')\n",
    "plt.show()"
   ]
  },
  {
   "cell_type": "code",
   "execution_count": 22,
   "id": "3d7ce9e5",
   "metadata": {},
   "outputs": [],
   "source": [
    "#b. `Age` against `Salary`\n",
    "\n",
    "# Scatter plot for Age vs. Salary\n",
    "plt.figure(figsize=(10, 6))\n",
    "multivar_salary_age = sns.scatterplot(x='Age (Years)', y='Yearly Salary (GBP)', data=acw_data_frame)\n",
    "plt.title('Age vs. Salary')\n",
    "plt.xlabel('Age (Years)')\n",
    "plt.ylabel('Yearly Salary (GBP)')\n",
    "plt.show()"
   ]
  },
  {
   "cell_type": "code",
   "execution_count": 23,
   "id": "d81901f4",
   "metadata": {},
   "outputs": [],
   "source": [
    "#stackoverflow, 2023 (colours)\n",
    "#`Age` against `Salary` conditioned by `Dependants`\n",
    "\n",
    "# Scatter plot for Age vs. Salary conditioned by the number of Dependents\n",
    "plt.figure(figsize=(10, 6))\n",
    "multivar_salary_age_dependants = sns.scatterplot(x='Age (Years)', y='Yearly Salary (GBP)', hue='Dependants', palette=[\"C3\", \"g\", \"C1\", \"k\", \"b\"], data=acw_data_frame)\n",
    "plt.title('Age vs. Salary (Conditioned by Dependents)')\n",
    "plt.xlabel('Age (Years)')\n",
    "plt.ylabel('Yearly Salary (GBP)')\n",
    "plt.legend(title='Dependants', loc='upper left')\n",
    "plt.show()"
   ]
  },
  {
   "cell_type": "markdown",
   "id": "c94784eb",
   "metadata": {},
   "source": [
    "#### 4. Saving Plots\n",
    "Below is a dictionary created to feed the `savefig()` function in order to save the graphs produced during the data visualisation"
   ]
  },
  {
   "cell_type": "code",
   "execution_count": 24,
   "id": "bf872bea",
   "metadata": {},
   "outputs": [],
   "source": [
    "# Dictionary to store the figure objects\n",
    "acw_figures = {}  \n",
    "\n",
    "# Assuming 'univar_age', 'univar_dependants', etc. are Axes objects returned from seaborn plotting functions\n",
    "acw_figures[\"./univariate_age.png\"] = univar_age.figure\n",
    "acw_figures[\"./univariate_dependants.png\"] = univar_dependants.figure\n",
    "acw_figures[\"./univariate_age_marital_status.png\"] = age_married_graph.figure\n",
    "acw_figures[\"./multivariate_salary_commute.png\"] = multivar_salary_commute.figure\n",
    "acw_figures[\"./multivariate_salary_age.png\"] = multivar_salary_age.figure\n",
    "acw_figures[\"./multivariate_salary_age_dependants.png\"] = multivar_salary_age_dependants.figure\n",
    "\n",
    "# Looping through the dictionary and saving each plot\n",
    "for fig_path, fig in acw_figures.items():\n",
    "    fig.savefig(fig_path)"
   ]
  },
  {
   "cell_type": "markdown",
   "id": "83fec819",
   "metadata": {},
   "source": [
    "### REFERENCES"
   ]
  },
  {
   "cell_type": "markdown",
   "id": "179497f9",
   "metadata": {},
   "source": [
    "##### 1. QiMacros, 2020. *\"How to Determine Histogram Bin Width and Bin Intervals\"*. Available Online: https://www.qimacros.com/histogram-excel/how-to-determine-histogram-bin-interval/ [Accessed 05/11/2022].\n",
    "\n",
    "##### 2. Stackoverflow, 2023. *\"Seaborn - Change Color According to Hue Name\"*. Available online: https://stackoverflow.com/questions/46173419/seaborn-change-color-according-to-hue-name/[Accessed 05/11/2022].\n",
    "\n",
    "##### 3. Stackoverflow, 2023. *\"How do I sort a list of dictionaries by a value of the dictionary?\"*. Available online: https://stackoverflow.com/questions/72899/how-do-i-sort-a-list-of-dictionaries-by-a-value-of-the-dictionary/[Accessed 02/11/2022].\n",
    "\n",
    "##### 4. Python Software Foundation. \"copy — Shallow and deep copy operations.\" Python Standard Library, 2023. Accessed on [date you accessed the information]. URL: https://docs.python.org/3/library/copy.html.\n",
    "\n",
    "##### 5. Stackoverflow, 2023. *\"How to change a datetime format in python?\"*. Available online: https://stackoverflow.com/questions/64137532/how-to-change-a-datetime-format-in-python/[Accessed 01/11/2022].\n",
    "\n",
    "##### 6. Stackoverflow, 2023. *\"How can I reorder a list? [closed]\"*. Available online: https://stackoverflow.com/questions/2177590/how-can-i-reorder-a-list/[Accessed 24/10/2022]."
   ]
  }
 ],
 "metadata": {
  "kernelspec": {
   "display_name": "Python 3 (ipykernel)",
   "language": "python",
   "name": "python3"
  },
  "language_info": {
   "codemirror_mode": {
    "name": "ipython",
    "version": 3
   },
   "file_extension": ".py",
   "mimetype": "text/x-python",
   "name": "python",
   "nbconvert_exporter": "python",
   "pygments_lexer": "ipython3",
   "version": "3.11.3"
  }
 },
 "nbformat": 4,
 "nbformat_minor": 5
}
